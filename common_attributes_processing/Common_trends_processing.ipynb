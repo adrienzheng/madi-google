{
 "cells": [
  {
   "cell_type": "code",
   "execution_count": 126,
   "metadata": {},
   "outputs": [
    {
     "name": "stdout",
     "output_type": "stream",
     "text": [
      "      Unnamed: 0  TransactionDT_observed  TransactionAmt_observed  \\\n",
      "0              0              12627443.0                    8.976   \n",
      "1              1               8083576.0                  504.950   \n",
      "2              2              11928366.0                  445.000   \n",
      "3              3               7921384.0                   33.950   \n",
      "4              4              13456600.0                  102.000   \n",
      "...          ...                     ...                      ...   \n",
      "4995        4995               9088335.0                   13.655   \n",
      "4996        4996               1743984.0                   34.514   \n",
      "4997        4997               8975348.0                  117.000   \n",
      "4998        4998              15384752.0                  159.000   \n",
      "4999        4999               5609242.0                  146.000   \n",
      "\n",
      "     P_emaildomain_observed R_emaildomain_observed card4_observed  \\\n",
      "0                icloud.com             icloud.com           visa   \n",
      "1                 gmail.com                    NaN     mastercard   \n",
      "2                 gmail.com                    NaN     mastercard   \n",
      "3                 yahoo.com                    NaN     mastercard   \n",
      "4                 gmail.com                    NaN     mastercard   \n",
      "...                     ...                    ...            ...   \n",
      "4995              gmail.com              gmail.com           visa   \n",
      "4996            hotmail.com            hotmail.com           visa   \n",
      "4997              gmail.com                    NaN           visa   \n",
      "4998              gmail.com                    NaN           visa   \n",
      "4999            netzero.net                    NaN           visa   \n",
      "\n",
      "     card6_observed  dist1_observed  addr1_observed DeviceType_observed  \\\n",
      "0             debit            -1.0            -1.0              mobile   \n",
      "1             debit            -1.0           184.0                 NaN   \n",
      "2             debit            22.0           272.0                 NaN   \n",
      "3             debit             0.0           204.0                 NaN   \n",
      "4             debit            -1.0           315.0                 NaN   \n",
      "...             ...             ...             ...                 ...   \n",
      "4995         credit            -1.0            -1.0              mobile   \n",
      "4996          debit            -1.0            -1.0             desktop   \n",
      "4997          debit            12.0           476.0                 NaN   \n",
      "4998          debit          1935.0           299.0                 NaN   \n",
      "4999          debit             0.0           126.0                 NaN   \n",
      "\n",
      "      class_prob_observed  TransactionDT_attribution  \\\n",
      "0                0.114836                   0.019478   \n",
      "1                0.526729                   0.159375   \n",
      "2                0.508997                   0.006694   \n",
      "3                0.512781                   0.103480   \n",
      "4                0.546591                   0.041709   \n",
      "...                   ...                        ...   \n",
      "4995             0.282642                   0.035172   \n",
      "4996             0.220871                   0.047745   \n",
      "4997             0.530920                   0.109599   \n",
      "4998             0.434917                   0.004768   \n",
      "4999             0.520452                   0.116473   \n",
      "\n",
      "      TransactionAmt_attribution  P_emaildomain_attribution  \\\n",
      "0                       0.000164                   0.002163   \n",
      "1                       0.058735                   0.003834   \n",
      "2                       0.018746                   0.000000   \n",
      "3                       0.004028                   0.067991   \n",
      "4                       0.125043                   0.000000   \n",
      "...                          ...                        ...   \n",
      "4995                    0.001265                   0.000000   \n",
      "4996                    0.007413                   0.000463   \n",
      "4997                    0.000000                   0.000000   \n",
      "4998                    0.000589                   0.061885   \n",
      "4999                    0.004922                   0.007725   \n",
      "\n",
      "      R_emaildomain_attribution  card4_attribution  card6_attribution  \\\n",
      "0                      0.008141           0.000000           0.000000   \n",
      "1                      0.000000           0.154663           0.000000   \n",
      "2                      0.000000           0.090888           0.000000   \n",
      "3                      0.000000           0.000000           0.000000   \n",
      "4                      0.000000           0.000000           0.000000   \n",
      "...                         ...                ...                ...   \n",
      "4995                   0.000000           0.008914           0.005687   \n",
      "4996                   0.017348           0.000000           0.000000   \n",
      "4997                   0.000000           0.000000           0.000000   \n",
      "4998                   0.000000           0.000000           0.000000   \n",
      "4999                   0.000000           0.000000           0.000000   \n",
      "\n",
      "      dist1_attribution  addr1_attribution  DeviceType_attribution  \n",
      "0              0.000000           0.002422                0.007777  \n",
      "1              0.000000           0.029161                0.000000  \n",
      "2              0.001295           0.037392                0.000000  \n",
      "3              0.001865           0.004901                0.000000  \n",
      "4              0.000000           0.000000                0.000000  \n",
      "...                 ...                ...                     ...  \n",
      "4995           0.000000           0.000000                0.000271  \n",
      "4996           0.000000           0.015037                0.003578  \n",
      "4997           0.000000           0.000000                0.000000  \n",
      "4998           0.411625           0.004512                0.000000  \n",
      "4999           0.000086           0.016977                0.000000  \n",
      "\n",
      "[5000 rows x 20 columns]\n"
     ]
    }
   ],
   "source": [
    "import pandas as pd\n",
    "import numpy as np\n",
    "df = pd.read_csv ('final_output.csv')\n",
    "print(df)"
   ]
  },
  {
   "cell_type": "markdown",
   "metadata": {},
   "source": [
    "# Processing of card_6_observed column to find # of anomalies depending on the threshold set (credit vs. debit)\n"
   ]
  },
  {
   "cell_type": "code",
   "execution_count": 149,
   "metadata": {
    "scrolled": true
   },
   "outputs": [
    {
     "name": "stdout",
     "output_type": "stream",
     "text": [
      "[{'credit': 1301, 'debit': 3699}, {'credit': 1301, 'debit': 3699}, {'credit': 1301, 'debit': 3699}, {'credit': 1301, 'debit': 3699}, {'credit': 1301, 'debit': 3699}, {'credit': 947, 'debit': 1558}, {'credit': 744, 'debit': 822}, {'credit': 685, 'debit': 652}, {'credit': 574, 'debit': 414}, {'credit': 475, 'debit': 289}]\n"
     ]
    }
   ],
   "source": [
    "# Processing of card_6_observed column to find # of anomalies depending on the threshold set (credit vs. debit)\n",
    "card6_data = []\n",
    "for i in range(10):\n",
    "    thisdict = {\"credit\":0,\"debit\":0}\n",
    "    for index, row in df.iterrows():\n",
    "        if (1-row['class_prob_observed']>float (\".\"+str(i))):\n",
    "            if (row['card6_observed']==\"credit\"):\n",
    "                thisdict[\"credit\"]+=1\n",
    "            else:\n",
    "                thisdict[\"debit\"]+=1\n",
    "    card6_data.append(thisdict)\n",
    "print(card6_data)   "
   ]
  },
  {
   "cell_type": "code",
   "execution_count": 162,
   "metadata": {},
   "outputs": [
    {
     "name": "stdout",
     "output_type": "stream",
     "text": [
      "{'credit': 475, 'debit': 289}\n"
     ]
    }
   ],
   "source": [
    "thisdict = {\"credit\":0,\"debit\":0}\n",
    "for index, row in df.iterrows():\n",
    "    if (1-row['class_prob_observed']>0.9):\n",
    "        if (row['card6_observed']==\"credit\"):\n",
    "            thisdict[\"credit\"]+=1\n",
    "        else:\n",
    "            thisdict[\"debit\"]+=1\n",
    "print(thisdict)"
   ]
  },
  {
   "cell_type": "markdown",
   "metadata": {},
   "source": [
    "# Processing of card_4_observed column to find # of anomalies depending on the threshold set (visa vs mastercard vs discover vs nan vs american express)"
   ]
  },
  {
   "cell_type": "code",
   "execution_count": 150,
   "metadata": {},
   "outputs": [
    {
     "name": "stdout",
     "output_type": "stream",
     "text": [
      "[{'visa': 3254, 'mastercard': 1593, 'discover': 61, 'nan': 4914, 'american express': 86}, {'visa': 3254, 'mastercard': 1593, 'discover': 61, 'nan': 4914, 'american express': 86}, {'visa': 3254, 'mastercard': 1593, 'discover': 61, 'nan': 4914, 'american express': 86}, {'visa': 3254, 'mastercard': 1593, 'discover': 61, 'nan': 4914, 'american express': 86}, {'visa': 3254, 'mastercard': 1593, 'discover': 61, 'nan': 4914, 'american express': 86}, {'visa': 1550, 'mastercard': 816, 'discover': 47, 'nan': 2419, 'american express': 86}, {'visa': 960, 'mastercard': 488, 'discover': 30, 'nan': 1480, 'american express': 86}, {'visa': 813, 'mastercard': 410, 'discover': 26, 'nan': 1251, 'american express': 86}, {'visa': 597, 'mastercard': 283, 'discover': 22, 'nan': 903, 'american express': 85}, {'visa': 475, 'mastercard': 195, 'discover': 18, 'nan': 689, 'american express': 75}]\n"
     ]
    }
   ],
   "source": [
    "# Processing of card_4_observed column to find # of anomalies depending on the threshold set (visa vs mastercard vs discover vs nan vs american express)\n",
    "\n",
    "card4_data = []\n",
    "for i in range(10):\n",
    "    thisdict = {\"visa\":0,\"mastercard\":0,\"discover\":0,\"nan\":0,'american express':0}\n",
    "    for index, row in df.iterrows():\n",
    "        if (1-row['class_prob_observed']>float (\".\"+str(i))):\n",
    "            if (row['card4_observed']==\"visa\"):\n",
    "                thisdict[\"visa\"]+=1\n",
    "            if (row['card4_observed']==\"mastercard\"):\n",
    "                thisdict[\"mastercard\"]+=1\n",
    "            if (row['card4_observed']==\"discover\"):\n",
    "                thisdict[\"discover\"]+=1\n",
    "            if (row['card4_observed']==\"american express\"):\n",
    "                thisdict[\"american express\"]+=1\n",
    "            else:\n",
    "                thisdict[\"nan\"]+=1\n",
    "    card4_data.append(thisdict)\n",
    "print(card4_data)   "
   ]
  },
  {
   "cell_type": "code",
   "execution_count": 165,
   "metadata": {},
   "outputs": [
    {
     "name": "stdout",
     "output_type": "stream",
     "text": [
      "{'visa': 475, 'mastercard': 195, 'discover': 18, 'nan': 689, 'american express': 75}\n"
     ]
    }
   ],
   "source": [
    "thisdict = {\"visa\":0,\"mastercard\":0,\"discover\":0,\"nan\":0,'american express':0}\n",
    "for index, row in df.iterrows():\n",
    "    if (1-row['class_prob_observed']>.9):\n",
    "        if (row['card4_observed']==\"visa\"):\n",
    "            thisdict[\"visa\"]+=1\n",
    "        if (row['card4_observed']==\"mastercard\"):\n",
    "            thisdict[\"mastercard\"]+=1\n",
    "        if (row['card4_observed']==\"discover\"):\n",
    "            thisdict[\"discover\"]+=1\n",
    "        if (row['card4_observed']==\"american express\"):\n",
    "            thisdict[\"american express\"]+=1\n",
    "        else:\n",
    "            thisdict[\"nan\"]+=1\n",
    "print(thisdict)"
   ]
  },
  {
   "cell_type": "markdown",
   "metadata": {},
   "source": [
    "# Processing of TransactionAmt_observed column to find # of anomalies depending on the threshold set (bucketed into 10 ranges of amounts)\n"
   ]
  },
  {
   "cell_type": "code",
   "execution_count": 156,
   "metadata": {},
   "outputs": [],
   "source": [
    "# Processing of TransactionAmt_observed column to find # of anomalies depending on the threshold set (bucketed intp 10 ranges of amounts)"
   ]
  },
  {
   "cell_type": "code",
   "execution_count": 178,
   "metadata": {},
   "outputs": [
    {
     "name": "stdout",
     "output_type": "stream",
     "text": [
      "358.4072\n",
      "3584.95\n"
     ]
    }
   ],
   "source": [
    "maximum = df[\"TransactionAmt_observed\"].max()\n",
    "minimum = df[\"TransactionAmt_observed\"].min()\n",
    "difference = maximum-minimum\n",
    "jumps = difference/10\n",
    "print(jumps)\n",
    "print(maximum)"
   ]
  },
  {
   "cell_type": "code",
   "execution_count": 179,
   "metadata": {},
   "outputs": [],
   "source": [
    "amt_data = []\n",
    "for i in range(10):\n",
    "    thisdict = {\"first\":0, \"second\":0, \"third\":0,\"fourth\":0,\"fifth\":0,\"sixth\":0,\"seventh\":0,\"eighth\":0,\"ninth\":0,\"tenth\":0}\n",
    "    for index, row in df.iterrows():\n",
    "        if (1-row['class_prob_observed']>float (\".\"+str(i))):\n",
    "            if (minimum+jumps>row['TransactionAmt_observed']>minimum):\n",
    "                thisdict[\"first\"]+=1\n",
    "            if (minimum+(2*jumps)>row['TransactionAmt_observed']>minimum+jumps):\n",
    "                thisdict[\"second\"]+=1\n",
    "            if (minimum+(3*jumps)>row['TransactionAmt_observed']>minimum+(2*jumps)):\n",
    "                thisdict[\"third\"]+=1\n",
    "            if (minimum+(4*jumps)>row['TransactionAmt_observed']>minimum+(3*jumps)):\n",
    "                \n",
    "                thisdict[\"fourth\"]+=1\n",
    "            if (minimum+(5*jumps)>row['TransactionAmt_observed']>minimum+(4*jumps)):\n",
    "       \n",
    "                thisdict[\"fifth\"]+=1\n",
    "            if (minimum+(6*jumps)>row['TransactionAmt_observed']>minimum+(5*jumps)):\n",
    "                \n",
    "                thisdict[\"sixth\"]+=1\n",
    "            if (minimum+(7*jumps)>row['TransactionAmt_observed']>minimum+(6*jumps)):\n",
    "               \n",
    "                thisdict[\"seventh\"]+=1\n",
    "            if (minimum+(8*jumps)>row['TransactionAmt_observed']>minimum+(7*jumps)):\n",
    "      \n",
    "                thisdict[\"eighth\"]+=1\n",
    "            if (minimum+(9*jumps)>row['TransactionAmt_observed']>minimum+(8*jumps)):\n",
    "       \n",
    "                thisdict[\"ninth\"]+=1\n",
    "            if (minimum+(10*jumps)>row['TransactionAmt_observed']>minimum+(9*jumps)):\n",
    "               \n",
    "                thisdict[\"tenth\"]+=1\n",
    "#     print(thisdict)\n",
    "    amt_data.append(thisdict)\n"
   ]
  },
  {
   "cell_type": "code",
   "execution_count": 180,
   "metadata": {},
   "outputs": [
    {
     "data": {
      "text/plain": [
       "[{'first': 4669,\n",
       "  'second': 229,\n",
       "  'third': 54,\n",
       "  'fourth': 24,\n",
       "  'fifth': 9,\n",
       "  'sixth': 4,\n",
       "  'seventh': 4,\n",
       "  'eighth': 2,\n",
       "  'ninth': 3,\n",
       "  'tenth': 1},\n",
       " {'first': 4669,\n",
       "  'second': 229,\n",
       "  'third': 54,\n",
       "  'fourth': 24,\n",
       "  'fifth': 9,\n",
       "  'sixth': 4,\n",
       "  'seventh': 4,\n",
       "  'eighth': 2,\n",
       "  'ninth': 3,\n",
       "  'tenth': 1},\n",
       " {'first': 4669,\n",
       "  'second': 229,\n",
       "  'third': 54,\n",
       "  'fourth': 24,\n",
       "  'fifth': 9,\n",
       "  'sixth': 4,\n",
       "  'seventh': 4,\n",
       "  'eighth': 2,\n",
       "  'ninth': 3,\n",
       "  'tenth': 1},\n",
       " {'first': 4669,\n",
       "  'second': 229,\n",
       "  'third': 54,\n",
       "  'fourth': 24,\n",
       "  'fifth': 9,\n",
       "  'sixth': 4,\n",
       "  'seventh': 4,\n",
       "  'eighth': 2,\n",
       "  'ninth': 3,\n",
       "  'tenth': 1},\n",
       " {'first': 4669,\n",
       "  'second': 229,\n",
       "  'third': 54,\n",
       "  'fourth': 24,\n",
       "  'fifth': 9,\n",
       "  'sixth': 4,\n",
       "  'seventh': 4,\n",
       "  'eighth': 2,\n",
       "  'ninth': 3,\n",
       "  'tenth': 1},\n",
       " {'first': 2351,\n",
       "  'second': 96,\n",
       "  'third': 27,\n",
       "  'fourth': 12,\n",
       "  'fifth': 4,\n",
       "  'sixth': 4,\n",
       "  'seventh': 4,\n",
       "  'eighth': 2,\n",
       "  'ninth': 3,\n",
       "  'tenth': 1},\n",
       " {'first': 1503,\n",
       "  'second': 34,\n",
       "  'third': 17,\n",
       "  'fourth': 4,\n",
       "  'fifth': 1,\n",
       "  'sixth': 1,\n",
       "  'seventh': 3,\n",
       "  'eighth': 0,\n",
       "  'ninth': 2,\n",
       "  'tenth': 0},\n",
       " {'first': 1292,\n",
       "  'second': 23,\n",
       "  'third': 14,\n",
       "  'fourth': 2,\n",
       "  'fifth': 1,\n",
       "  'sixth': 1,\n",
       "  'seventh': 2,\n",
       "  'eighth': 0,\n",
       "  'ninth': 1,\n",
       "  'tenth': 0},\n",
       " {'first': 954,\n",
       "  'second': 18,\n",
       "  'third': 12,\n",
       "  'fourth': 1,\n",
       "  'fifth': 0,\n",
       "  'sixth': 1,\n",
       "  'seventh': 1,\n",
       "  'eighth': 0,\n",
       "  'ninth': 0,\n",
       "  'tenth': 0},\n",
       " {'first': 736,\n",
       "  'second': 15,\n",
       "  'third': 9,\n",
       "  'fourth': 1,\n",
       "  'fifth': 0,\n",
       "  'sixth': 1,\n",
       "  'seventh': 1,\n",
       "  'eighth': 0,\n",
       "  'ninth': 0,\n",
       "  'tenth': 0}]"
      ]
     },
     "execution_count": 180,
     "metadata": {},
     "output_type": "execute_result"
    }
   ],
   "source": [
    "amt_data"
   ]
  },
  {
   "cell_type": "code",
   "execution_count": 182,
   "metadata": {},
   "outputs": [
    {
     "name": "stdout",
     "output_type": "stream",
     "text": [
      "{'first': 736, 'second': 15, 'third': 9, 'fourth': 1, 'fifth': 0, 'sixth': 1, 'seventh': 1, 'eighth': 0, 'ninth': 0, 'tenth': 0}\n"
     ]
    }
   ],
   "source": [
    "thisdict = {\"first\":0, \"second\":0, \"third\":0,\"fourth\":0,\"fifth\":0,\"sixth\":0,\"seventh\":0,\"eighth\":0,\"ninth\":0,\"tenth\":0}\n",
    "for index, row in df.iterrows():\n",
    "    if (1-row['class_prob_observed']>.9):\n",
    "        if (minimum+jumps>row['TransactionAmt_observed']>minimum):\n",
    "            thisdict[\"first\"]+=1\n",
    "        if (minimum+(2*jumps)>row['TransactionAmt_observed']>minimum+jumps):\n",
    "            thisdict[\"second\"]+=1\n",
    "        if (minimum+(3*jumps)>row['TransactionAmt_observed']>minimum+(2*jumps)):\n",
    "            thisdict[\"third\"]+=1\n",
    "        if (minimum+(4*jumps)>row['TransactionAmt_observed']>minimum+(3*jumps)):\n",
    "\n",
    "            thisdict[\"fourth\"]+=1\n",
    "        if (minimum+(5*jumps)>row['TransactionAmt_observed']>minimum+(4*jumps)):\n",
    "\n",
    "            thisdict[\"fifth\"]+=1\n",
    "        if (minimum+(6*jumps)>row['TransactionAmt_observed']>minimum+(5*jumps)):\n",
    "\n",
    "            thisdict[\"sixth\"]+=1\n",
    "        if (minimum+(7*jumps)>row['TransactionAmt_observed']>minimum+(6*jumps)):\n",
    "\n",
    "            thisdict[\"seventh\"]+=1\n",
    "        if (minimum+(8*jumps)>row['TransactionAmt_observed']>minimum+(7*jumps)):\n",
    "\n",
    "            thisdict[\"eighth\"]+=1\n",
    "        if (minimum+(9*jumps)>row['TransactionAmt_observed']>minimum+(8*jumps)):\n",
    "\n",
    "            thisdict[\"ninth\"]+=1\n",
    "        if (minimum+(10*jumps)>row['TransactionAmt_observed']>minimum+(9*jumps)):\n",
    "\n",
    "            thisdict[\"tenth\"]+=1\n",
    "print(thisdict)"
   ]
  },
  {
   "cell_type": "code",
   "execution_count": 189,
   "metadata": {},
   "outputs": [
    {
     "name": "stdout",
     "output_type": "stream",
     "text": [
      "0.9-359.3\n"
     ]
    },
    {
     "ename": "TypeError",
     "evalue": "str() argument 2 must be str, not int",
     "output_type": "error",
     "traceback": [
      "\u001b[0;31m---------------------------------------------------------------------------\u001b[0m",
      "\u001b[0;31mTypeError\u001b[0m                                 Traceback (most recent call last)",
      "\u001b[0;32m<ipython-input-189-7949e963e3cf>\u001b[0m in \u001b[0;36m<module>\u001b[0;34m\u001b[0m\n\u001b[1;32m      1\u001b[0m \u001b[0mprint\u001b[0m\u001b[0;34m(\u001b[0m\u001b[0mstr\u001b[0m\u001b[0;34m(\u001b[0m\u001b[0mround\u001b[0m\u001b[0;34m(\u001b[0m\u001b[0mminimum\u001b[0m\u001b[0;34m,\u001b[0m\u001b[0;36m1\u001b[0m\u001b[0;34m)\u001b[0m\u001b[0;34m)\u001b[0m\u001b[0;34m+\u001b[0m\u001b[0;34m\"-\"\u001b[0m\u001b[0;34m+\u001b[0m\u001b[0mstr\u001b[0m\u001b[0;34m(\u001b[0m\u001b[0mround\u001b[0m\u001b[0;34m(\u001b[0m\u001b[0mminimum\u001b[0m\u001b[0;34m+\u001b[0m\u001b[0mjumps\u001b[0m\u001b[0;34m,\u001b[0m\u001b[0;36m1\u001b[0m\u001b[0;34m)\u001b[0m\u001b[0;34m)\u001b[0m\u001b[0;34m)\u001b[0m\u001b[0;34m\u001b[0m\u001b[0;34m\u001b[0m\u001b[0m\n\u001b[0;32m----> 2\u001b[0;31m \u001b[0mprint\u001b[0m\u001b[0;34m(\u001b[0m\u001b[0mstr\u001b[0m\u001b[0;34m(\u001b[0m\u001b[0mround\u001b[0m\u001b[0;34m(\u001b[0m\u001b[0mminimum\u001b[0m\u001b[0;34m+\u001b[0m\u001b[0mjumps\u001b[0m\u001b[0;34m,\u001b[0m\u001b[0;36m1\u001b[0m\u001b[0;34m)\u001b[0m\u001b[0;34m)\u001b[0m\u001b[0;34m+\u001b[0m\u001b[0;34m\"-\"\u001b[0m\u001b[0;34m+\u001b[0m\u001b[0mstr\u001b[0m\u001b[0;34m(\u001b[0m\u001b[0mround\u001b[0m\u001b[0;34m(\u001b[0m\u001b[0mminimum\u001b[0m\u001b[0;34m+\u001b[0m\u001b[0;34m(\u001b[0m\u001b[0;36m2\u001b[0m\u001b[0;34m*\u001b[0m\u001b[0mjumps\u001b[0m\u001b[0;34m)\u001b[0m\u001b[0;34m)\u001b[0m\u001b[0;34m,\u001b[0m\u001b[0;36m1\u001b[0m\u001b[0;34m)\u001b[0m\u001b[0;34m)\u001b[0m\u001b[0;34m\u001b[0m\u001b[0;34m\u001b[0m\u001b[0m\n\u001b[0m\u001b[1;32m      3\u001b[0m \u001b[0mprint\u001b[0m\u001b[0;34m(\u001b[0m\u001b[0mstr\u001b[0m\u001b[0;34m(\u001b[0m\u001b[0mminimum\u001b[0m\u001b[0;34m+\u001b[0m\u001b[0;34m(\u001b[0m\u001b[0;36m2\u001b[0m\u001b[0;34m*\u001b[0m\u001b[0mjumps\u001b[0m\u001b[0;34m)\u001b[0m\u001b[0;34m)\u001b[0m\u001b[0;34m+\u001b[0m\u001b[0;34m\"-\"\u001b[0m\u001b[0;34m+\u001b[0m\u001b[0mstr\u001b[0m\u001b[0;34m(\u001b[0m\u001b[0mminimum\u001b[0m\u001b[0;34m+\u001b[0m\u001b[0;34m(\u001b[0m\u001b[0;36m3\u001b[0m\u001b[0;34m*\u001b[0m\u001b[0mjumps\u001b[0m\u001b[0;34m)\u001b[0m\u001b[0;34m)\u001b[0m\u001b[0;34m)\u001b[0m\u001b[0;34m\u001b[0m\u001b[0;34m\u001b[0m\u001b[0m\n\u001b[1;32m      4\u001b[0m \u001b[0mprint\u001b[0m\u001b[0;34m(\u001b[0m\u001b[0mstr\u001b[0m\u001b[0;34m(\u001b[0m\u001b[0mminimum\u001b[0m\u001b[0;34m+\u001b[0m\u001b[0;34m(\u001b[0m\u001b[0;36m3\u001b[0m\u001b[0;34m*\u001b[0m\u001b[0mjumps\u001b[0m\u001b[0;34m)\u001b[0m\u001b[0;34m)\u001b[0m\u001b[0;34m+\u001b[0m\u001b[0;34m\"-\"\u001b[0m\u001b[0;34m+\u001b[0m\u001b[0mstr\u001b[0m\u001b[0;34m(\u001b[0m\u001b[0mminimum\u001b[0m\u001b[0;34m+\u001b[0m\u001b[0;34m(\u001b[0m\u001b[0;36m4\u001b[0m\u001b[0;34m*\u001b[0m\u001b[0mjumps\u001b[0m\u001b[0;34m)\u001b[0m\u001b[0;34m)\u001b[0m\u001b[0;34m)\u001b[0m\u001b[0;34m\u001b[0m\u001b[0;34m\u001b[0m\u001b[0m\n\u001b[1;32m      5\u001b[0m \u001b[0mprint\u001b[0m\u001b[0;34m(\u001b[0m\u001b[0mstr\u001b[0m\u001b[0;34m(\u001b[0m\u001b[0mminimum\u001b[0m\u001b[0;34m+\u001b[0m\u001b[0;34m(\u001b[0m\u001b[0;36m4\u001b[0m\u001b[0;34m*\u001b[0m\u001b[0mjumps\u001b[0m\u001b[0;34m)\u001b[0m\u001b[0;34m)\u001b[0m\u001b[0;34m+\u001b[0m\u001b[0;34m\"-\"\u001b[0m\u001b[0;34m+\u001b[0m\u001b[0mstr\u001b[0m\u001b[0;34m(\u001b[0m\u001b[0mminimum\u001b[0m\u001b[0;34m+\u001b[0m\u001b[0;34m(\u001b[0m\u001b[0;36m5\u001b[0m\u001b[0;34m*\u001b[0m\u001b[0mjumps\u001b[0m\u001b[0;34m)\u001b[0m\u001b[0;34m)\u001b[0m\u001b[0;34m)\u001b[0m\u001b[0;34m\u001b[0m\u001b[0;34m\u001b[0m\u001b[0m\n",
      "\u001b[0;31mTypeError\u001b[0m: str() argument 2 must be str, not int"
     ]
    }
   ],
   "source": [
    "print(str(minimum)+\"-\"+str(minimum+jumps))\n",
    "print(str(minimum+jumps)+\"-\"+str(minimum+(2*jumps)))\n",
    "print(str(minimum+(2*jumps))+\"-\"+str(minimum+(3*jumps)))\n",
    "print(str(minimum+(3*jumps))+\"-\"+str(minimum+(4*jumps)))\n",
    "print(str(minimum+(4*jumps))+\"-\"+str(minimum+(5*jumps)))\n",
    "print(str(minimum+(5*jumps))+\"-\"+str(minimum+(6*jumps)))\n",
    "print(str(minimum+(6*jumps))+\"-\"+str(minimum+(7*jumps)))\n",
    "print(str(minimum+(7*jumps))+\"-\"+str(minimum+(8*jumps)))\n",
    "print(str(minimum+(8*jumps))+\"-\"+str(minimum+(9*jumps)))\n",
    "print(str(minimum+(9*jumps))+\"-\"+str(minimum+(10*jumps)))"
   ]
  },
  {
   "cell_type": "code",
   "execution_count": null,
   "metadata": {},
   "outputs": [],
   "source": []
  }
 ],
 "metadata": {
  "kernelspec": {
   "display_name": "Python 3",
   "language": "python",
   "name": "python3"
  },
  "language_info": {
   "codemirror_mode": {
    "name": "ipython",
    "version": 3
   },
   "file_extension": ".py",
   "mimetype": "text/x-python",
   "name": "python",
   "nbconvert_exporter": "python",
   "pygments_lexer": "ipython3",
   "version": "3.7.4"
  }
 },
 "nbformat": 4,
 "nbformat_minor": 2
}
